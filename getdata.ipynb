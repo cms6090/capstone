{
 "cells": [
  {
   "cell_type": "code",
   "execution_count": 1,
   "metadata": {},
   "outputs": [],
   "source": [
    "from selenium import webdriver\n",
    "from selenium.webdriver.common.by import By\n",
    "import time\n",
    "import pandas as pd\n",
    "\n",
    "from selenium.webdriver.chrome.service import Service as ChromeService\n",
    "from webdriver_manager.chrome import ChromeDriverManager"
   ]
  },
  {
   "cell_type": "code",
   "execution_count": 2,
   "metadata": {},
   "outputs": [],
   "source": [
    "filter = ['이수영역', '년도학기', '교과목명', '학점', '성적', '구이수']\n",
    "\n",
    "# 웹 드라이버 경로 설정\n",
    "driver = webdriver.Chrome(service=ChromeService(ChromeDriverManager().install())) # 크롬 버전에 따른 chromedriver.exe를 설치해야 하므로 해당 버전에 맞는 chromedriver 설치\n",
    "main_window_handle = driver.current_window_handle\n",
    "\n",
    "# 로그인 페이지로 이동\n",
    "login_url = 'https://www.daejin.ac.kr/subLogin/daejin/view.do?layout=unknown'\n",
    "driver.get(login_url)\n",
    "\n",
    "username = \"20191516\"\n",
    "password = \"cho6090^)()\""
   ]
  },
  {
   "cell_type": "code",
   "execution_count": 4,
   "metadata": {},
   "outputs": [],
   "source": [
    "# 로그인 폼 채우기\n",
    "username_input = driver.find_element(By.ID, 'userId')\n",
    "password_input = driver.find_element(By.ID, 'userPwd')\n",
    "\n",
    "username_input.send_keys(username)\n",
    "password_input.send_keys(password)\n",
    "\n",
    "# 로그인 버튼 클릭\n",
    "login_button = driver.find_element(By.CLASS_NAME, '_loginSubmit')\n",
    "login_button.click()\n",
    "\n",
    "time.sleep(1)\n",
    "\n",
    "if 'message.do' in driver.current_url:\n",
    "    driver.find_element(By.XPATH, '/html/body/div[1]/form/div/div/div[2]/div/span/input').click()\n",
    "\n",
    "url = 'https://dreams2.daejin.ac.kr/sugang/LinkPortal.jsp'  # 이동하려는 URL로 수정하세요\n",
    "driver.get(url)\n",
    "time.sleep(1)"
   ]
  },
  {
   "cell_type": "code",
   "execution_count": 5,
   "metadata": {},
   "outputs": [],
   "source": [
    "new_window_handle = None\n",
    "for handle in driver.window_handles:\n",
    "    if handle != main_window_handle:\n",
    "        new_window_handle = handle\n",
    "        break\n",
    "\n",
    "if new_window_handle:\n",
    "    driver.switch_to.window(new_window_handle)\n",
    "    driver.close()  # 새로운 창 닫기\n",
    "    driver.switch_to.window(main_window_handle)\n",
    "\n",
    "#테스트 시작\n",
    "driver.switch_to.frame('BBF')\n",
    "driver.switch_to.frame('LF')\n",
    "driver.find_element(By.ID, 'MFX8').click()\n",
    "\n",
    "element = driver.find_element(By.ID, 'MFX9')\n",
    "element.find_element(By.TAG_NAME, 'a').click()"
   ]
  },
  {
   "cell_type": "code",
   "execution_count": 6,
   "metadata": {},
   "outputs": [],
   "source": [
    "#이수구분별 성적조회 및 출력클릭\n",
    "driver.switch_to.parent_frame()\n",
    "driver.switch_to.frame('RF')\n",
    "driver.find_element(By.XPATH, '/html/body/table/tbody/tr/td/table[2]/tbody/tr[3]/td[1]/a').click()\n",
    "time.sleep(1)\n",
    "driver.find_element(By.CLASS_NAME, \"crownix-absolute-100\").click() # 화면 세로 맞춤\n",
    "driver.find_element(By.ID, \"crownix-toolbar-height\").click()\n",
    "\n",
    "# m2soft-crownix-text ID를 갖는 DIV 요소 찾기\n",
    "time.sleep(1)\n",
    "div_element = driver.find_element(By.ID, 'm2soft-crownix-text')\n",
    "\n",
    "# DIV 요소의 모든 하위 요소들 가져오기\n",
    "sub_elements = div_element.find_elements(By.XPATH, \".//*\")"
   ]
  },
  {
   "cell_type": "code",
   "execution_count": 16,
   "metadata": {},
   "outputs": [],
   "source": [
    "Course = {}\n",
    "Course['교필'] = {'학점' : 0, '교과목명' : []}\n",
    "Course['교선1'] = {'학점' : 0, '교과목명' : []}\n",
    "Course['교선2'] = {'학점' : 0, '교과목명' : []}\n",
    "Course['교선3'] = {'학점' : 0, '교과목명' : []}\n",
    "Course['교선4'] = {'학점' : 0, '교과목명' : []}\n",
    "Course['교선5'] = {'학점' : 0, '교과목명' : []}\n",
    "Course['교선6'] = {'학점' : 0, '교과목명' : []}\n",
    "Course['교선7'] = {'학점' : 0, '교과목명' : []}\n",
    "Course['교선8'] = {'학점' : 0, '교과목명' : []}\n",
    "Course['교선8'] = {'학점' : 0, '교과목명' : []}\n",
    "Course['전필'] = {'학점' : 0, '교과목명' : []}\n",
    "Course['전선'] = {'학점' : 0, '교과목명' : []}\n",
    "Course['일선'] = {'학점' : 0, '교과목명' : []}\n",
    "Course['부전1'] = {'학점' : 0, '교과목명' : []}\n",
    "Course['복전1'] = {'학점' : 0, '교과목명' : []}"
   ]
  },
  {
   "cell_type": "code",
   "execution_count": 17,
   "metadata": {},
   "outputs": [
    {
     "name": "stdout",
     "output_type": "stream",
     "text": [
      "19\n",
      "25\n",
      "31\n",
      "37\n",
      "43\n",
      "51\n",
      "57\n",
      "63\n",
      "69\n",
      "75\n",
      "81\n",
      "87\n",
      "93\n",
      "99\n",
      "105\n",
      "111\n",
      "117\n",
      "125\n",
      "131\n",
      "137\n",
      "143\n",
      "151\n",
      "157\n",
      "163\n",
      "169\n",
      "175\n",
      "181\n",
      "187\n",
      "193\n",
      "199\n",
      "205\n",
      "211\n",
      "217\n",
      "223\n",
      "229\n",
      "235\n",
      "241\n",
      "249\n",
      "256\n",
      "263\n",
      "270\n",
      "277\n",
      "284\n",
      "293\n",
      "299\n",
      "305\n",
      "311\n"
     ]
    }
   ],
   "source": [
    "i = 19\n",
    "\n",
    "while i < len(sub_elements):\n",
    "    text = sub_elements[i].text\n",
    "    if \"일선 취득학점 계 : \" in text:\n",
    "        break\n",
    "    elif ' 계 : ' in text:\n",
    "        i += 2\n",
    "    elif text not in filter:\n",
    "        if text == '부전1' or text != '':\n",
    "            skip = 7 if text == '부전1' else 6\n",
    "            \n",
    "            if len(text) > 2:\n",
    "                text = text[0:3]\n",
    "            Course[text]['학점'] += int(sub_elements[i+4].text)\n",
    "            Course[text]['교과목명'].append(sub_elements[i+3].text)\n",
    "            i += skip\n",
    "        else:\n",
    "            i += 1\n",
    "    else:\n",
    "        i += 1"
   ]
  },
  {
   "cell_type": "code",
   "execution_count": 20,
   "metadata": {},
   "outputs": [
    {
     "data": {
      "text/plain": [
       "{'교필': {'학점': 8,\n",
       "  '교과목명': ['비전설계및상담A', '사고와표현', '비전설계및상담A', '영어읽기와토론', '대순사상의이해']},\n",
       " '교선1': {'학점': 0, '교과목명': []},\n",
       " '교선2': {'학점': 2, '교과목명': ['음식과식량의문화사']},\n",
       " '교선3': {'학점': 2, '교과목명': ['스포츠마케팅인사이트']},\n",
       " '교선4': {'학점': 4, '교과목명': ['알기쉬운빅데이터와통계학의이해', '정보사회와컴퓨터']},\n",
       " '교선5': {'학점': 2, '교과목명': ['서양음악의역사와감상']},\n",
       " '교선6': {'학점': 0, '교과목명': []},\n",
       " '교선7': {'학점': 5, '교과목명': ['토익문법', '명사와함께하는나의미래설계']},\n",
       " '교선8': {'학점': 14,\n",
       "  '교과목명': ['빅데이터분석의이해', '기초통계학', '제4차산업혁명과자기경영', 'OFFICE실무', '성격심리학']},\n",
       " '전필': {'학점': 12, '교과목명': ['컴퓨터시스템구조', '운영체제론', '컴퓨터알고리즘', '데이터베이스론']},\n",
       " '전선': {'학점': 48,\n",
       "  '교과목명': ['컴퓨터프로그래밍기초',\n",
       "   '콘텐츠기술의이해',\n",
       "   '창의적공학프로그래밍입문',\n",
       "   '객체지향프로그래밍',\n",
       "   '컴퓨터시스템기초실습',\n",
       "   '전산수학',\n",
       "   '논리회로및실습',\n",
       "   '자료구조',\n",
       "   '시스템프로그래밍',\n",
       "   '파일처리론',\n",
       "   '자바프로그래밍',\n",
       "   '데이터베이스설계',\n",
       "   '고급시스템프로그래밍',\n",
       "   '컴퓨터네트워크및보안',\n",
       "   '웹프로그래밍',\n",
       "   '프론트엔드웹디자인']},\n",
       " '일선': {'학점': 12, '교과목명': ['기초프로그래밍', '빅데이터분석심화', '정형DB실무', 'AI개론']},\n",
       " '부전1': {'학점': 18,\n",
       "  '교과목명': ['원가.관리회계', '회계원리', '기업재무', '서비스운영관리', '인적자원관리', '조직행동론']},\n",
       " '복전1': {'학점': 0, '교과목명': []}}"
      ]
     },
     "execution_count": 20,
     "metadata": {},
     "output_type": "execute_result"
    }
   ],
   "source": [
    "Course"
   ]
  },
  {
   "cell_type": "code",
   "execution_count": null,
   "metadata": {},
   "outputs": [],
   "source": []
  }
 ],
 "metadata": {
  "kernelspec": {
   "display_name": "캡스톤",
   "language": "python",
   "name": "python3"
  },
  "language_info": {
   "codemirror_mode": {
    "name": "ipython",
    "version": 3
   },
   "file_extension": ".py",
   "mimetype": "text/x-python",
   "name": "python",
   "nbconvert_exporter": "python",
   "pygments_lexer": "ipython3",
   "version": "3.12.1"
  }
 },
 "nbformat": 4,
 "nbformat_minor": 2
}
