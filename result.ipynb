{
 "cells": [
  {
   "cell_type": "code",
   "execution_count": 8,
   "metadata": {},
   "outputs": [],
   "source": [
    "from flask import Flask, render_template, request\n",
    "import GetData\n",
    "\n",
    "app = Flask(__name__)\n",
    "course_info = {\n",
    "    '교필': 0,\n",
    "    '교선': 0,\n",
    "    '전필': 0,\n",
    "    '전선': 0,\n",
    "    '복전': 0,\n",
    "    '부전': 0,\n",
    "    '일선': 0\n",
    "}"
   ]
  },
  {
   "cell_type": "code",
   "execution_count": 9,
   "metadata": {},
   "outputs": [],
   "source": [
    "@app.route('/')\n",
    "def index():\n",
    "    return render_template('index.html')"
   ]
  },
  {
   "cell_type": "code",
   "execution_count": 10,
   "metadata": {},
   "outputs": [
    {
     "name": "stdout",
     "output_type": "stream",
     "text": [
      " * Serving Flask app '__main__'\n",
      " * Debug mode: on\n"
     ]
    },
    {
     "name": "stderr",
     "output_type": "stream",
     "text": [
      "WARNING: This is a development server. Do not use it in a production deployment. Use a production WSGI server instead.\n",
      " * Running on http://127.0.0.1:5000\n",
      "Press CTRL+C to quit\n",
      " * Restarting with stat\n"
     ]
    },
    {
     "ename": "SystemExit",
     "evalue": "1",
     "output_type": "error",
     "traceback": [
      "An exception has occurred, use %tb to see the full traceback.\n",
      "\u001b[1;31mSystemExit\u001b[0m\u001b[1;31m:\u001b[0m 1\n"
     ]
    },
    {
     "name": "stderr",
     "output_type": "stream",
     "text": [
      "c:\\Users\\cho03\\Documents\\카카오톡 받은 파일\\캡스톤디자인\\캡스톤\\Lib\\site-packages\\IPython\\core\\interactiveshell.py:3585: UserWarning: To exit: use 'exit', 'quit', or Ctrl-D.\n",
      "  warn(\"To exit: use 'exit', 'quit', or Ctrl-D.\", stacklevel=1)\n"
     ]
    }
   ],
   "source": [
    "@app.route('/result', methods=['POST'])\n",
    "def result():\n",
    "    user_id = request.form['user_id']\n",
    "    password = request.form['password']\n",
    "    crawling_data = GetData.Crawling(user_id, password)\n",
    "    \n",
    "    # for course_name, course_details in crawling_data.items():\n",
    "    #     print(course_name + \":\")\n",
    "    #     for key, value in course_details.items():\n",
    "    #         print(key, value)\n",
    "    \n",
    "    \n",
    "    for course_name, course_details in crawling_data.items():\n",
    "        course_info[course_name] += int(course_details['학점'])\n",
    "    total_credits = sum(course_info.values())\n",
    "    #return render_template('result.html')\n",
    "    return render_template('result.html', course_info=course_info, total_credits=total_credits)\n",
    "\n",
    "if __name__ == '__main__':\n",
    "    app.run(debug=True)"
   ]
  },
  {
   "cell_type": "code",
   "execution_count": null,
   "metadata": {},
   "outputs": [],
   "source": []
  }
 ],
 "metadata": {
  "kernelspec": {
   "display_name": "캡스톤",
   "language": "python",
   "name": "python3"
  },
  "language_info": {
   "codemirror_mode": {
    "name": "ipython",
    "version": 3
   },
   "file_extension": ".py",
   "mimetype": "text/x-python",
   "name": "python",
   "nbconvert_exporter": "python",
   "pygments_lexer": "ipython3",
   "version": "3.12.1"
  }
 },
 "nbformat": 4,
 "nbformat_minor": 2
}
